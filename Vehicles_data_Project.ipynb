{
 "cells": [
  {
   "cell_type": "markdown",
   "id": "d063ed2d",
   "metadata": {},
   "source": [
    "# Matplotlib - visualisation"
   ]
  },
  {
   "cell_type": "markdown",
   "id": "7d64b0dd",
   "metadata": {},
   "source": [
    "## Bivariate Analysis\n",
    " - Anaysing two variables at once\n",
    " \n",
    " \n",
    "#### Categorical with Categorical\n",
    "     - crosstab to get frequency or aggregate of any other numerical column\n",
    "     - Visualisation - HeatMaps or stacked Charts\n",
    "     \n",
    "#### Categorical With Numerical\n",
    "      - Groupby and aggregation\n",
    "      - Visualisation: Bar charts/Pie Charts\n",
    "\n",
    "#### Numerical with Numerical\n",
    "       - Correlation Analysis\n",
    "       - Scatter Plots\n",
    "        "
   ]
  },
  {
   "cell_type": "code",
   "execution_count": 26,
   "id": "62793d93",
   "metadata": {},
   "outputs": [],
   "source": [
    "import pandas as pd\n",
    "import matplotlib.pyplot as plt\n",
    "import seaborn as sns\n",
    "import numpy as np"
   ]
  },
  {
   "cell_type": "code",
   "execution_count": 27,
   "id": "8c3d854d",
   "metadata": {},
   "outputs": [
    {
     "data": {
      "text/html": [
       "<div>\n",
       "<style scoped>\n",
       "    .dataframe tbody tr th:only-of-type {\n",
       "        vertical-align: middle;\n",
       "    }\n",
       "\n",
       "    .dataframe tbody tr th {\n",
       "        vertical-align: top;\n",
       "    }\n",
       "\n",
       "    .dataframe thead th {\n",
       "        text-align: right;\n",
       "    }\n",
       "</style>\n",
       "<table border=\"1\" class=\"dataframe\">\n",
       "  <thead>\n",
       "    <tr style=\"text-align: right;\">\n",
       "      <th></th>\n",
       "      <th>Car_Name</th>\n",
       "      <th>Year</th>\n",
       "      <th>Selling_Price</th>\n",
       "      <th>Present_Price</th>\n",
       "      <th>Kms_Driven</th>\n",
       "      <th>Fuel_Type</th>\n",
       "      <th>Seller_Type</th>\n",
       "      <th>Transmission</th>\n",
       "      <th>Owner</th>\n",
       "    </tr>\n",
       "  </thead>\n",
       "  <tbody>\n",
       "    <tr>\n",
       "      <th>0</th>\n",
       "      <td>ritz</td>\n",
       "      <td>2014</td>\n",
       "      <td>3.35</td>\n",
       "      <td>5.59</td>\n",
       "      <td>27000</td>\n",
       "      <td>Petrol</td>\n",
       "      <td>Dealer</td>\n",
       "      <td>Manual</td>\n",
       "      <td>0</td>\n",
       "    </tr>\n",
       "    <tr>\n",
       "      <th>1</th>\n",
       "      <td>sx4</td>\n",
       "      <td>2013</td>\n",
       "      <td>4.75</td>\n",
       "      <td>9.54</td>\n",
       "      <td>43000</td>\n",
       "      <td>Diesel</td>\n",
       "      <td>Dealer</td>\n",
       "      <td>Manual</td>\n",
       "      <td>0</td>\n",
       "    </tr>\n",
       "    <tr>\n",
       "      <th>2</th>\n",
       "      <td>ciaz</td>\n",
       "      <td>2017</td>\n",
       "      <td>7.25</td>\n",
       "      <td>9.85</td>\n",
       "      <td>6900</td>\n",
       "      <td>Petrol</td>\n",
       "      <td>Dealer</td>\n",
       "      <td>Manual</td>\n",
       "      <td>0</td>\n",
       "    </tr>\n",
       "    <tr>\n",
       "      <th>3</th>\n",
       "      <td>wagon r</td>\n",
       "      <td>2011</td>\n",
       "      <td>2.85</td>\n",
       "      <td>4.15</td>\n",
       "      <td>5200</td>\n",
       "      <td>Petrol</td>\n",
       "      <td>Dealer</td>\n",
       "      <td>Manual</td>\n",
       "      <td>0</td>\n",
       "    </tr>\n",
       "    <tr>\n",
       "      <th>4</th>\n",
       "      <td>swift</td>\n",
       "      <td>2014</td>\n",
       "      <td>4.60</td>\n",
       "      <td>6.87</td>\n",
       "      <td>42450</td>\n",
       "      <td>Diesel</td>\n",
       "      <td>Dealer</td>\n",
       "      <td>Manual</td>\n",
       "      <td>0</td>\n",
       "    </tr>\n",
       "    <tr>\n",
       "      <th>...</th>\n",
       "      <td>...</td>\n",
       "      <td>...</td>\n",
       "      <td>...</td>\n",
       "      <td>...</td>\n",
       "      <td>...</td>\n",
       "      <td>...</td>\n",
       "      <td>...</td>\n",
       "      <td>...</td>\n",
       "      <td>...</td>\n",
       "    </tr>\n",
       "    <tr>\n",
       "      <th>296</th>\n",
       "      <td>city</td>\n",
       "      <td>2016</td>\n",
       "      <td>9.50</td>\n",
       "      <td>11.60</td>\n",
       "      <td>33988</td>\n",
       "      <td>Diesel</td>\n",
       "      <td>Dealer</td>\n",
       "      <td>Manual</td>\n",
       "      <td>0</td>\n",
       "    </tr>\n",
       "    <tr>\n",
       "      <th>297</th>\n",
       "      <td>brio</td>\n",
       "      <td>2015</td>\n",
       "      <td>4.00</td>\n",
       "      <td>5.90</td>\n",
       "      <td>60000</td>\n",
       "      <td>Petrol</td>\n",
       "      <td>Dealer</td>\n",
       "      <td>Manual</td>\n",
       "      <td>0</td>\n",
       "    </tr>\n",
       "    <tr>\n",
       "      <th>298</th>\n",
       "      <td>city</td>\n",
       "      <td>2009</td>\n",
       "      <td>3.35</td>\n",
       "      <td>11.00</td>\n",
       "      <td>87934</td>\n",
       "      <td>Petrol</td>\n",
       "      <td>Dealer</td>\n",
       "      <td>Manual</td>\n",
       "      <td>0</td>\n",
       "    </tr>\n",
       "    <tr>\n",
       "      <th>299</th>\n",
       "      <td>city</td>\n",
       "      <td>2017</td>\n",
       "      <td>11.50</td>\n",
       "      <td>12.50</td>\n",
       "      <td>9000</td>\n",
       "      <td>Diesel</td>\n",
       "      <td>Dealer</td>\n",
       "      <td>Manual</td>\n",
       "      <td>0</td>\n",
       "    </tr>\n",
       "    <tr>\n",
       "      <th>300</th>\n",
       "      <td>brio</td>\n",
       "      <td>2016</td>\n",
       "      <td>5.30</td>\n",
       "      <td>5.90</td>\n",
       "      <td>5464</td>\n",
       "      <td>Petrol</td>\n",
       "      <td>Dealer</td>\n",
       "      <td>Manual</td>\n",
       "      <td>0</td>\n",
       "    </tr>\n",
       "  </tbody>\n",
       "</table>\n",
       "<p>301 rows × 9 columns</p>\n",
       "</div>"
      ],
      "text/plain": [
       "    Car_Name  Year  Selling_Price  Present_Price  Kms_Driven Fuel_Type  \\\n",
       "0       ritz  2014           3.35           5.59       27000    Petrol   \n",
       "1        sx4  2013           4.75           9.54       43000    Diesel   \n",
       "2       ciaz  2017           7.25           9.85        6900    Petrol   \n",
       "3    wagon r  2011           2.85           4.15        5200    Petrol   \n",
       "4      swift  2014           4.60           6.87       42450    Diesel   \n",
       "..       ...   ...            ...            ...         ...       ...   \n",
       "296     city  2016           9.50          11.60       33988    Diesel   \n",
       "297     brio  2015           4.00           5.90       60000    Petrol   \n",
       "298     city  2009           3.35          11.00       87934    Petrol   \n",
       "299     city  2017          11.50          12.50        9000    Diesel   \n",
       "300     brio  2016           5.30           5.90        5464    Petrol   \n",
       "\n",
       "    Seller_Type Transmission  Owner  \n",
       "0        Dealer       Manual      0  \n",
       "1        Dealer       Manual      0  \n",
       "2        Dealer       Manual      0  \n",
       "3        Dealer       Manual      0  \n",
       "4        Dealer       Manual      0  \n",
       "..          ...          ...    ...  \n",
       "296      Dealer       Manual      0  \n",
       "297      Dealer       Manual      0  \n",
       "298      Dealer       Manual      0  \n",
       "299      Dealer       Manual      0  \n",
       "300      Dealer       Manual      0  \n",
       "\n",
       "[301 rows x 9 columns]"
      ]
     },
     "execution_count": 27,
     "metadata": {},
     "output_type": "execute_result"
    }
   ],
   "source": [
    "df  = pd.read_csv(\"C:/Users/kavin/Downloads/car_data.csv\")\n",
    "df"
   ]
  },
  {
   "cell_type": "code",
   "execution_count": 28,
   "id": "5f4e753d",
   "metadata": {},
   "outputs": [
    {
     "name": "stdout",
     "output_type": "stream",
     "text": [
      "<class 'pandas.core.frame.DataFrame'>\n",
      "RangeIndex: 301 entries, 0 to 300\n",
      "Data columns (total 9 columns):\n",
      " #   Column         Non-Null Count  Dtype  \n",
      "---  ------         --------------  -----  \n",
      " 0   Car_Name       301 non-null    object \n",
      " 1   Year           301 non-null    int64  \n",
      " 2   Selling_Price  301 non-null    float64\n",
      " 3   Present_Price  301 non-null    float64\n",
      " 4   Kms_Driven     301 non-null    int64  \n",
      " 5   Fuel_Type      301 non-null    object \n",
      " 6   Seller_Type    301 non-null    object \n",
      " 7   Transmission   301 non-null    object \n",
      " 8   Owner          301 non-null    int64  \n",
      "dtypes: float64(2), int64(3), object(4)\n",
      "memory usage: 21.3+ KB\n"
     ]
    }
   ],
   "source": [
    "df.info()"
   ]
  },
  {
   "cell_type": "code",
   "execution_count": 29,
   "id": "a18939ee",
   "metadata": {},
   "outputs": [
    {
     "data": {
      "text/plain": [
       "(301, 9)"
      ]
     },
     "execution_count": 29,
     "metadata": {},
     "output_type": "execute_result"
    }
   ],
   "source": [
    "df.columns\n",
    "df.shape"
   ]
  },
  {
   "cell_type": "code",
   "execution_count": 30,
   "id": "2cc9d992",
   "metadata": {},
   "outputs": [
    {
     "data": {
      "text/plain": [
       "0    290\n",
       "1     10\n",
       "3      1\n",
       "Name: Owner, dtype: int64"
      ]
     },
     "execution_count": 30,
     "metadata": {},
     "output_type": "execute_result"
    }
   ],
   "source": [
    "df[\"Owner\"].value_counts()"
   ]
  },
  {
   "cell_type": "markdown",
   "id": "b1c79855",
   "metadata": {},
   "source": [
    "## Plot"
   ]
  },
  {
   "cell_type": "code",
   "execution_count": 42,
   "id": "6327fcf0",
   "metadata": {},
   "outputs": [
    {
     "data": {
      "image/png": "[encoded data removed]",
      "text/plain": [
       "<Figure size 432x288 with 1 Axes>"
      ]
     },
     "metadata": {
      "needs_background": "light"
     },
     "output_type": "display_data"
    }
   ],
   "source": [
    "## make an plot for Fuel Type\n",
    "\n",
    "plt.figure(figsize = (6, 4))\n",
    "df[\"Fuel_Type\"].value_counts().plot(kind = 'bar')\n",
    "plt.title(\"Number of cars of different fuel types\")\n",
    "plt.xlabel(\"Type of car\")\n",
    "plt.ylabel(\"Number of cars\")\n",
    "plt.grid()"
   ]
  },
  {
   "cell_type": "code",
   "execution_count": 43,
   "id": "bde97ed0",
   "metadata": {},
   "outputs": [
    {
     "data": {
      "image/png": "[encoded data removed]",
      "text/plain": [
       "<Figure size 432x288 with 1 Axes>"
      ]
     },
     "metadata": {
      "needs_background": "light"
     },
     "output_type": "display_data"
    }
   ],
   "source": [
    "df[\"Fuel_Type\"].value_counts().plot(marker = \"o\", \n",
    "                                    color = \"r\",\n",
    "                                    alpha = 0.3)\n",
    "plt.yticks(np.arange(0,250, 20))\n",
    "plt.grid()\n",
    "plt.show()"
   ]
  },
  {
   "cell_type": "code",
   "execution_count": 44,
   "id": "c456ada7",
   "metadata": {},
   "outputs": [
    {
     "name": "stdout",
     "output_type": "stream",
     "text": [
      "Index(['Petrol', 'Diesel', 'CNG'], dtype='object')\n",
      "[239  60   2]\n"
     ]
    }
   ],
   "source": [
    "print(df[\"Fuel_Type\"].value_counts().index)\n",
    "print(df[\"Fuel_Type\"].value_counts().values)"
   ]
  },
  {
   "cell_type": "markdown",
   "id": "8a8d1e95",
   "metadata": {},
   "source": [
    "## Bar chart"
   ]
  },
  {
   "cell_type": "code",
   "execution_count": 58,
   "id": "37b3df96",
   "metadata": {},
   "outputs": [
    {
     "data": {
      "image/png": "[encoded data removed]",
      "text/plain": [
       "<Figure size 432x288 with 1 Axes>"
      ]
     },
     "metadata": {
      "needs_background": "light"
     },
     "output_type": "display_data"
    }
   ],
   "source": [
    "## Make a  for Fuel type \n",
    "\n",
    "plt.bar(df[\"Fuel_Type\"].value_counts().index, df[\"Fuel_Type\"].value_counts().values )\n",
    "plt.grid()"
   ]
  },
  {
   "cell_type": "code",
   "execution_count": 59,
   "id": "a2e0d8d4",
   "metadata": {},
   "outputs": [
    {
     "data": {
      "image/png": "[encoded data removed]",
      "text/plain": [
       "<Figure size 432x288 with 1 Axes>"
      ]
     },
     "metadata": {
      "needs_background": "light"
     },
     "output_type": "display_data"
    }
   ],
   "source": [
    "## Make a bar chart for Fuel type and the value_counts\n",
    "\n",
    "plt.figure(figsize = (6,4))\n",
    "\n",
    "plt.bar(df[\"Fuel_Type\"].value_counts().index,\n",
    "        df[\"Fuel_Type\"].value_counts().values,\n",
    "         color = \"g\",\n",
    "         alpha = 0.5\n",
    "       )\n",
    "\n",
    "plt.plot(df[\"Fuel_Type\"].value_counts().index,\n",
    "        df[\"Fuel_Type\"].value_counts().values,\n",
    "         marker = \"o\",\n",
    "         color = \"r\",\n",
    "         alpha = 0.5\n",
    "       )\n",
    "\n",
    "\n",
    "plt.xticks(fontsize = 12)\n",
    "plt.xlabel(\"Type of Fuel\", fontsize = 15)\n",
    "\n",
    "plt.ylabel(\"Count of cars\")\n",
    "plt.yticks((range(0,270,20)))\n",
    "\n",
    "\n",
    "\n",
    "plt.title(\"Number of cars in different Fuel Types\", fontsize = 15)\n",
    "plt.grid()"
   ]
  },
  {
   "cell_type": "code",
   "execution_count": 60,
   "id": "f714d130",
   "metadata": {},
   "outputs": [
    {
     "data": {
      "text/plain": [
       "Index(['Petrol', 'Diesel', 'CNG'], dtype='object')"
      ]
     },
     "execution_count": 60,
     "metadata": {},
     "output_type": "execute_result"
    }
   ],
   "source": [
    "(df[\"Fuel_Type\"].value_counts().index)"
   ]
  },
  {
   "cell_type": "markdown",
   "id": "5c750063",
   "metadata": {},
   "source": [
    "## Histogram "
   ]
  },
  {
   "cell_type": "code",
   "execution_count": 63,
   "id": "e78014b7",
   "metadata": {},
   "outputs": [
    {
     "data": {
      "image/png": "[encoded data removed]",
      "text/plain": [
       "<Figure size 1440x720 with 1 Axes>"
      ]
     },
     "metadata": {
      "needs_background": "light"
     },
     "output_type": "display_data"
    }
   ],
   "source": [
    "## Make a Histogram for Sellingb Price\n",
    "\n",
    "plt.figure(figsize = (20,10))\n",
    "plt.hist(df[\"Selling_Price\"], color = \"red\", bins = 10)\n",
    "plt.title(\"Distribution of Selling Prices\")\n",
    "plt.xticks(list(range(0,40, 3))   ,fontsize = 12)\n",
    "plt.yticks(fontsize = 12)\n",
    "plt.xlabel(\"Price bins\")\n",
    "plt.ylabel(\"Count or Frequency\")\n",
    "plt.grid()\n",
    "\n",
    "\n"
   ]
  },
  {
   "cell_type": "markdown",
   "id": "16a42c7d",
   "metadata": {},
   "source": [
    "##  Boxplots"
   ]
  },
  {
   "cell_type": "code",
   "execution_count": 68,
   "id": "c203f3f7",
   "metadata": {},
   "outputs": [
    {
     "data": {
      "image/png": "[encoded data removed]",
      "text/plain": [
       "<Figure size 1080x360 with 1 Axes>"
      ]
     },
     "metadata": {
      "needs_background": "light"
     },
     "output_type": "display_data"
    }
   ],
   "source": [
    "## Make a BoxPlot for Sellingb Price\n",
    "%matplotlib inline\n",
    "plt.figure(figsize = (15,5))\n",
    "plt.boxplot(df[\"Selling_Price\"], vert = False, showmeans = True, meanline = True)\n",
    "plt.show()"
   ]
  },
  {
   "cell_type": "markdown",
   "id": "72f1e568",
   "metadata": {},
   "source": [
    "## Heatmaps"
   ]
  },
  {
   "cell_type": "code",
   "execution_count": 75,
   "id": "9827a1cb",
   "metadata": {},
   "outputs": [
    {
     "data": {
      "text/plain": [
       "<AxesSubplot:xlabel='Transmission', ylabel='Fuel_Type'>"
      ]
     },
     "execution_count": 75,
     "metadata": {},
     "output_type": "execute_result"
    },
    {
     "data": {
      "image/png": "[encoded data removed]",
      "text/plain": [
       "<Figure size 432x288 with 2 Axes>"
      ]
     },
     "metadata": {
      "needs_background": "light"
     },
     "output_type": "display_data"
    }
   ],
   "source": [
    "# Make a heatmaps for Fuel_type and Tranbsmission\n",
    "\n",
    "sns.heatmap(pd.crosstab(df[\"Fuel_Type\"], \n",
    "                        df[\"Transmission\"]),\n",
    "           annot = True,\n",
    "           cmap = 'gray')"
   ]
  },
  {
   "cell_type": "code",
   "execution_count": 76,
   "id": "cae01031",
   "metadata": {},
   "outputs": [
    {
     "data": {
      "text/html": [
       "<div>\n",
       "<style scoped>\n",
       "    .dataframe tbody tr th:only-of-type {\n",
       "        vertical-align: middle;\n",
       "    }\n",
       "\n",
       "    .dataframe tbody tr th {\n",
       "        vertical-align: top;\n",
       "    }\n",
       "\n",
       "    .dataframe thead th {\n",
       "        text-align: right;\n",
       "    }\n",
       "</style>\n",
       "<table border=\"1\" class=\"dataframe\">\n",
       "  <thead>\n",
       "    <tr style=\"text-align: right;\">\n",
       "      <th></th>\n",
       "      <th>Selling_Price</th>\n",
       "      <th>Present_Price</th>\n",
       "      <th>Kms_Driven</th>\n",
       "    </tr>\n",
       "  </thead>\n",
       "  <tbody>\n",
       "    <tr>\n",
       "      <th>Selling_Price</th>\n",
       "      <td>1.000000</td>\n",
       "      <td>0.878983</td>\n",
       "      <td>0.029187</td>\n",
       "    </tr>\n",
       "    <tr>\n",
       "      <th>Present_Price</th>\n",
       "      <td>0.878983</td>\n",
       "      <td>1.000000</td>\n",
       "      <td>0.203647</td>\n",
       "    </tr>\n",
       "    <tr>\n",
       "      <th>Kms_Driven</th>\n",
       "      <td>0.029187</td>\n",
       "      <td>0.203647</td>\n",
       "      <td>1.000000</td>\n",
       "    </tr>\n",
       "  </tbody>\n",
       "</table>\n",
       "</div>"
      ],
      "text/plain": [
       "               Selling_Price  Present_Price  Kms_Driven\n",
       "Selling_Price       1.000000       0.878983    0.029187\n",
       "Present_Price       0.878983       1.000000    0.203647\n",
       "Kms_Driven          0.029187       0.203647    1.000000"
      ]
     },
     "execution_count": 76,
     "metadata": {},
     "output_type": "execute_result"
    }
   ],
   "source": [
    "# categorical with categorical variable visualisation using Heatmaps\n",
    "\n",
    "\n",
    "df[[\"Selling_Price\",\"Present_Price\",\"Kms_Driven\"]].corr()"
   ]
  },
  {
   "cell_type": "code",
   "execution_count": 77,
   "id": "6eff6f6b",
   "metadata": {},
   "outputs": [
    {
     "data": {
      "text/plain": [
       "<AxesSubplot:>"
      ]
     },
     "execution_count": 77,
     "metadata": {},
     "output_type": "execute_result"
    },
    {
     "data": {
      "image/png": "[encoded data removed]",
      "text/plain": [
       "<Figure size 432x288 with 2 Axes>"
      ]
     },
     "metadata": {
      "needs_background": "light"
     },
     "output_type": "display_data"
    }
   ],
   "source": [
    "sns.heatmap(df[[\"Selling_Price\",\"Present_Price\",\"Kms_Driven\"]].corr(),\n",
    "            cmap = \"gray\",\n",
    "            cbar = True,\n",
    "           annot = True)"
   ]
  },
  {
   "cell_type": "markdown",
   "id": "0c7beb48",
   "metadata": {},
   "source": [
    "## Cross Tab"
   ]
  },
  {
   "cell_type": "code",
   "execution_count": 79,
   "id": "9cd2c875",
   "metadata": {},
   "outputs": [
    {
     "data": {
      "text/html": [
       "<div>\n",
       "<style scoped>\n",
       "    .dataframe tbody tr th:only-of-type {\n",
       "        vertical-align: middle;\n",
       "    }\n",
       "\n",
       "    .dataframe tbody tr th {\n",
       "        vertical-align: top;\n",
       "    }\n",
       "\n",
       "    .dataframe thead th {\n",
       "        text-align: right;\n",
       "    }\n",
       "</style>\n",
       "<table border=\"1\" class=\"dataframe\">\n",
       "  <thead>\n",
       "    <tr style=\"text-align: right;\">\n",
       "      <th>Transmission</th>\n",
       "      <th>Automatic</th>\n",
       "      <th>Manual</th>\n",
       "    </tr>\n",
       "    <tr>\n",
       "      <th>Fuel_Type</th>\n",
       "      <th></th>\n",
       "      <th></th>\n",
       "    </tr>\n",
       "  </thead>\n",
       "  <tbody>\n",
       "    <tr>\n",
       "      <th>CNG</th>\n",
       "      <td>0</td>\n",
       "      <td>2</td>\n",
       "    </tr>\n",
       "    <tr>\n",
       "      <th>Diesel</th>\n",
       "      <td>12</td>\n",
       "      <td>48</td>\n",
       "    </tr>\n",
       "    <tr>\n",
       "      <th>Petrol</th>\n",
       "      <td>28</td>\n",
       "      <td>211</td>\n",
       "    </tr>\n",
       "  </tbody>\n",
       "</table>\n",
       "</div>"
      ],
      "text/plain": [
       "Transmission  Automatic  Manual\n",
       "Fuel_Type                      \n",
       "CNG                   0       2\n",
       "Diesel               12      48\n",
       "Petrol               28     211"
      ]
     },
     "execution_count": 79,
     "metadata": {},
     "output_type": "execute_result"
    }
   ],
   "source": [
    "cross_tab = pd.crosstab(df[\"Fuel_Type\"], df[\"Transmission\"])\n",
    "cross_tab"
   ]
  },
  {
   "cell_type": "markdown",
   "id": "f47aaef0",
   "metadata": {},
   "source": [
    "## stacked chart"
   ]
  },
  {
   "cell_type": "code",
   "execution_count": 81,
   "id": "20ef4f17",
   "metadata": {},
   "outputs": [
    {
     "data": {
      "image/png": "[encoded data removed]",
      "text/plain": [
       "<Figure size 432x288 with 1 Axes>"
      ]
     },
     "metadata": {
      "needs_background": "light"
     },
     "output_type": "display_data"
    }
   ],
   "source": [
    "# Make a stacked chart for using Cross_tab\n",
    "\n",
    "cross_tab.plot(kind='bar', stacked=True, color=['steelblue', 'red'])\n",
    "plt.yticks(np.arange(0,250,20))\n",
    "plt.grid()\n",
    "plt.show()"
   ]
  },
  {
   "cell_type": "markdown",
   "id": "e49509e0",
   "metadata": {},
   "source": [
    "## Scatter Plot"
   ]
  },
  {
   "cell_type": "code",
   "execution_count": 82,
   "id": "c19d16c2",
   "metadata": {},
   "outputs": [
    {
     "data": {
      "image/png": "[encoded data removed]",
      "text/plain": [
       "<Figure size 432x288 with 1 Axes>"
      ]
     },
     "metadata": {
      "needs_background": "light"
     },
     "output_type": "display_data"
    }
   ],
   "source": [
    "## Make a ScatterPlot\n",
    "\n",
    "plt.scatter(df[\"Selling_Price\"],df[\"Kms_Driven\"], alpha = 0.5)\n",
    "plt.xlabel(\"Selling Price\")\n",
    "plt.ylabel(\"Kilometers Driven\")\n",
    "plt.grid()"
   ]
  },
  {
   "cell_type": "code",
   "execution_count": null,
   "id": "39784eee",
   "metadata": {},
   "outputs": [],
   "source": []
  }
 ],
 "metadata": {
  "kernelspec": {
   "display_name": "Python 3 (ipykernel)",
   "language": "python",
   "name": "python3"
  },
  "language_info": {
   "codemirror_mode": {
    "name": "ipython",
    "version": 3
   },
   "file_extension": ".py",
   "mimetype": "text/x-python",
   "name": "python",
   "nbconvert_exporter": "python",
   "pygments_lexer": "ipython3",
   "version": "3.9.12"
  }
 },
 "nbformat": 4,
 "nbformat_minor": 5
}
